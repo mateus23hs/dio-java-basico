{
  "nbformat": 4,
  "nbformat_minor": 0,
  "metadata": {
    "colab": {
      "provenance": [],
      "authorship_tag": "ABX9TyP23mHS3Od4jsgqrg1tmm6+",
      "include_colab_link": true
    },
    "kernelspec": {
      "name": "python3",
      "display_name": "Python 3"
    },
    "language_info": {
      "name": "python"
    }
  },
  "cells": [
    {
      "cell_type": "markdown",
      "metadata": {
        "id": "view-in-github",
        "colab_type": "text"
      },
      "source": [
        "<a href=\"https://colab.research.google.com/github/mateus23hs/dio-java-basico/blob/main/Curso_de_Python.ipynb\" target=\"_parent\"><img src=\"https://colab.research.google.com/assets/colab-badge.svg\" alt=\"Open In Colab\"/></a>"
      ]
    },
    {
      "cell_type": "code",
      "execution_count": null,
      "metadata": {
        "id": "AS-bkoIcFVtD",
        "colab": {
          "base_uri": "https://localhost:8080/"
        },
        "outputId": "c33c217c-0d55-43b4-b5e0-d27a4a8602b3"
      },
      "outputs": [
        {
          "output_type": "stream",
          "name": "stdout",
          "text": [
            "Curso de Python\n"
          ]
        }
      ],
      "source": [
        "print (\"Curso\" + \" de Python\")"
      ]
    },
    {
      "cell_type": "markdown",
      "source": [
        ">Concatenação com Operador +"
      ],
      "metadata": {
        "id": "n9X9Wsw5HDsR"
      }
    },
    {
      "cell_type": "code",
      "source": [
        "print(\"Aula {} do Curso de {}\" .format(1, \"Python\"))"
      ],
      "metadata": {
        "colab": {
          "base_uri": "https://localhost:8080/"
        },
        "id": "Hjl8UhOjHg05",
        "outputId": "a796785f-8979-4aba-ff94-2712efd37c6e"
      },
      "execution_count": null,
      "outputs": [
        {
          "output_type": "stream",
          "name": "stdout",
          "text": [
            "Aula 1 do Curso de Python\n"
          ]
        }
      ]
    },
    {
      "cell_type": "markdown",
      "source": [
        "###Olá Mundo\n"
      ],
      "metadata": {
        "id": "W4fbWIbEGXzz"
      }
    },
    {
      "cell_type": "markdown",
      "source": [
        "Transformando para minuscula com lower"
      ],
      "metadata": {
        "id": "lCLRoEQMH2PB"
      }
    },
    {
      "cell_type": "code",
      "source": [
        "print(\"Curso de Python Iniciantes\".lower())"
      ],
      "metadata": {
        "colab": {
          "base_uri": "https://localhost:8080/"
        },
        "id": "vAqpTN5zH7cg",
        "outputId": "7bb0c7c0-389a-47bf-d1ac-5cbfb2e14be0"
      },
      "execution_count": null,
      "outputs": [
        {
          "output_type": "stream",
          "name": "stdout",
          "text": [
            "curso de python iniciantes\n"
          ]
        }
      ]
    },
    {
      "cell_type": "markdown",
      "source": [
        ">>Nosso primeiro comando em Python"
      ],
      "metadata": {
        "id": "wvKU8SW4GqfU"
      }
    },
    {
      "cell_type": "markdown",
      "source": [
        "Transoforamando para Maiuscula com upper"
      ],
      "metadata": {
        "id": "EhtePqFzIIG5"
      }
    },
    {
      "cell_type": "code",
      "source": [
        "print(\"Curso de Python Iniciantes\".upper())"
      ],
      "metadata": {
        "colab": {
          "base_uri": "https://localhost:8080/"
        },
        "id": "UBX0evg3IQXh",
        "outputId": "ee58d887-d235-4c0a-9940-f1e6bb437968"
      },
      "execution_count": null,
      "outputs": [
        {
          "output_type": "stream",
          "name": "stdout",
          "text": [
            "CURSO DE PYTHON INICIANTES\n"
          ]
        }
      ]
    },
    {
      "cell_type": "markdown",
      "source": [
        ">>Removendo espaços em branco com Strip()"
      ],
      "metadata": {
        "id": "Jc7dIeL-Ik_X"
      }
    },
    {
      "cell_type": "code",
      "source": [
        "print(\"    Curso de Python Iniciantes   \".strip())"
      ],
      "metadata": {
        "colab": {
          "base_uri": "https://localhost:8080/"
        },
        "id": "qo1Bi-z0IqbP",
        "outputId": "e9996bd3-d7d5-4b63-d380-4f98bb397790"
      },
      "execution_count": null,
      "outputs": [
        {
          "output_type": "stream",
          "name": "stdout",
          "text": [
            "Curso de Python Iniciantes\n"
          ]
        }
      ]
    },
    {
      "cell_type": "markdown",
      "source": [
        ">O tipo str"
      ],
      "metadata": {
        "id": "p-R3v6JlI2cX"
      }
    },
    {
      "cell_type": "code",
      "source": [
        "type(\"Curso de Python Iniciantes\")"
      ],
      "metadata": {
        "colab": {
          "base_uri": "https://localhost:8080/"
        },
        "id": "FC7NCdqsI7MP",
        "outputId": "f80d17dd-401f-4f2b-c5f3-fb7451163680"
      },
      "execution_count": null,
      "outputs": [
        {
          "output_type": "execute_result",
          "data": {
            "text/plain": [
              "str"
            ]
          },
          "metadata": {},
          "execution_count": 11
        }
      ]
    },
    {
      "cell_type": "markdown",
      "source": [
        "###Lidando com numeros e Operadores Matematicos"
      ],
      "metadata": {
        "id": "vyw_rVU3JCqH"
      }
    },
    {
      "cell_type": "code",
      "source": [],
      "metadata": {
        "id": "9OoShL8SJI5o"
      },
      "execution_count": null,
      "outputs": []
    },
    {
      "cell_type": "markdown",
      "source": [
        "Tipos Numericos"
      ],
      "metadata": {
        "id": "OZfLr9rUJNt5"
      }
    },
    {
      "cell_type": "code",
      "source": [
        "type (2)"
      ],
      "metadata": {
        "colab": {
          "base_uri": "https://localhost:8080/"
        },
        "id": "S96LuCT4JPsB",
        "outputId": "ab6e8192-fd73-47f9-8733-736736148b34"
      },
      "execution_count": null,
      "outputs": [
        {
          "output_type": "execute_result",
          "data": {
            "text/plain": [
              "int"
            ]
          },
          "metadata": {},
          "execution_count": 13
        }
      ]
    },
    {
      "cell_type": "code",
      "source": [
        "type(2.5)"
      ],
      "metadata": {
        "colab": {
          "base_uri": "https://localhost:8080/"
        },
        "id": "qB_-k49KJV53",
        "outputId": "eab4cf08-b7e8-4d1a-ed5a-6f1baeed720e"
      },
      "execution_count": null,
      "outputs": [
        {
          "output_type": "execute_result",
          "data": {
            "text/plain": [
              "float"
            ]
          },
          "metadata": {},
          "execution_count": 15
        }
      ]
    },
    {
      "cell_type": "markdown",
      "source": [
        "Soma"
      ],
      "metadata": {
        "id": "zeC36g4BJca8"
      }
    },
    {
      "cell_type": "code",
      "source": [
        "2+2"
      ],
      "metadata": {
        "colab": {
          "base_uri": "https://localhost:8080/"
        },
        "id": "UbBSVddTJd_v",
        "outputId": "ef625656-4a58-408c-fa1b-8e1f42777864"
      },
      "execution_count": null,
      "outputs": [
        {
          "output_type": "execute_result",
          "data": {
            "text/plain": [
              "4"
            ]
          },
          "metadata": {},
          "execution_count": 16
        }
      ]
    },
    {
      "cell_type": "markdown",
      "source": [
        "Subtração"
      ],
      "metadata": {
        "id": "beqQWml5JiYw"
      }
    },
    {
      "cell_type": "code",
      "source": [
        "10-7\n"
      ],
      "metadata": {
        "colab": {
          "base_uri": "https://localhost:8080/"
        },
        "id": "rXGGHthVJlbP",
        "outputId": "115ea2cb-8266-4a73-b16b-99925bbcd2c9"
      },
      "execution_count": null,
      "outputs": [
        {
          "output_type": "execute_result",
          "data": {
            "text/plain": [
              "3"
            ]
          },
          "metadata": {},
          "execution_count": 17
        }
      ]
    },
    {
      "cell_type": "markdown",
      "source": [
        "Multiplicação\n"
      ],
      "metadata": {
        "id": "qV6rEbmOJowL"
      }
    },
    {
      "cell_type": "code",
      "source": [
        "7*3"
      ],
      "metadata": {
        "colab": {
          "base_uri": "https://localhost:8080/"
        },
        "id": "F7v4Qsy4Jqt2",
        "outputId": "b32ff9a8-c864-4ce6-804e-5d80b3f95f3e"
      },
      "execution_count": null,
      "outputs": [
        {
          "output_type": "execute_result",
          "data": {
            "text/plain": [
              "21"
            ]
          },
          "metadata": {},
          "execution_count": 18
        }
      ]
    },
    {
      "cell_type": "markdown",
      "source": [
        "Exponenciação"
      ],
      "metadata": {
        "id": "nUTaVtJUJwZA"
      }
    },
    {
      "cell_type": "code",
      "source": [
        "5 ** 2"
      ],
      "metadata": {
        "colab": {
          "base_uri": "https://localhost:8080/"
        },
        "id": "_fZKEmmXJyIu",
        "outputId": "14c71041-896f-4e3c-c836-2c599ce56552"
      },
      "execution_count": null,
      "outputs": [
        {
          "output_type": "execute_result",
          "data": {
            "text/plain": [
              "25"
            ]
          },
          "metadata": {},
          "execution_count": 19
        }
      ]
    },
    {
      "cell_type": "markdown",
      "source": [
        ">> Divisão"
      ],
      "metadata": {
        "id": "Lnrtj5m5J2TW"
      }
    },
    {
      "cell_type": "code",
      "source": [
        "5 / 2"
      ],
      "metadata": {
        "colab": {
          "base_uri": "https://localhost:8080/"
        },
        "id": "LWFOpZyrJ4sf",
        "outputId": "f7b61ac9-0eb3-47ae-f868-c0bd7458aa51"
      },
      "execution_count": null,
      "outputs": [
        {
          "output_type": "execute_result",
          "data": {
            "text/plain": [
              "2.5"
            ]
          },
          "metadata": {},
          "execution_count": 20
        }
      ]
    },
    {
      "cell_type": "code",
      "source": [
        "type(5/2)"
      ],
      "metadata": {
        "colab": {
          "base_uri": "https://localhost:8080/"
        },
        "id": "yLpcm1w3J8xZ",
        "outputId": "150f4e25-5a1f-4414-d2ef-7f4f2bd8baa8"
      },
      "execution_count": null,
      "outputs": [
        {
          "output_type": "execute_result",
          "data": {
            "text/plain": [
              "float"
            ]
          },
          "metadata": {},
          "execution_count": 21
        }
      ]
    },
    {
      "cell_type": "markdown",
      "source": [
        ">>Divisão Inteira"
      ],
      "metadata": {
        "id": "tIf_YuqYPWJU"
      }
    },
    {
      "cell_type": "code",
      "source": [
        "5 // 2"
      ],
      "metadata": {
        "colab": {
          "base_uri": "https://localhost:8080/"
        },
        "id": "GzSnT-jNPYja",
        "outputId": "5c4fa603-8065-4abf-b87e-8755cc1d72c1"
      },
      "execution_count": null,
      "outputs": [
        {
          "output_type": "execute_result",
          "data": {
            "text/plain": [
              "2"
            ]
          },
          "metadata": {},
          "execution_count": 22
        }
      ]
    },
    {
      "cell_type": "markdown",
      "source": [
        "Resto da divisão"
      ],
      "metadata": {
        "id": "8Mqh1BoDPdLD"
      }
    },
    {
      "cell_type": "code",
      "source": [
        "5 % 2"
      ],
      "metadata": {
        "colab": {
          "base_uri": "https://localhost:8080/"
        },
        "id": "9JuoHnnIPfqe",
        "outputId": "358b2ba7-cf53-46f3-81e1-091091352209"
      },
      "execution_count": null,
      "outputs": [
        {
          "output_type": "execute_result",
          "data": {
            "text/plain": [
              "1"
            ]
          },
          "metadata": {},
          "execution_count": 23
        }
      ]
    },
    {
      "cell_type": "markdown",
      "source": [
        "Expressoes"
      ],
      "metadata": {
        "id": "lzKfvzSxPtHK"
      }
    },
    {
      "cell_type": "code",
      "source": [
        "10 - 5 + 20 -4"
      ],
      "metadata": {
        "colab": {
          "base_uri": "https://localhost:8080/"
        },
        "id": "58i-OErKPvna",
        "outputId": "d32d5d03-5d24-4981-dc62-78bdf5a31088"
      },
      "execution_count": null,
      "outputs": [
        {
          "output_type": "execute_result",
          "data": {
            "text/plain": [
              "21"
            ]
          },
          "metadata": {},
          "execution_count": 24
        }
      ]
    },
    {
      "cell_type": "code",
      "source": [
        "(2+3)*(4-2)"
      ],
      "metadata": {
        "colab": {
          "base_uri": "https://localhost:8080/"
        },
        "id": "SgddCOrGP28J",
        "outputId": "97fdb58a-0bf0-4c64-a89c-17f811872ef8"
      },
      "execution_count": null,
      "outputs": [
        {
          "output_type": "execute_result",
          "data": {
            "text/plain": [
              "10"
            ]
          },
          "metadata": {},
          "execution_count": 25
        }
      ]
    },
    {
      "cell_type": "code",
      "source": [
        "((2+3)*(4+2)) ** 2"
      ],
      "metadata": {
        "colab": {
          "base_uri": "https://localhost:8080/"
        },
        "id": "nCTlzOuMQQVT",
        "outputId": "0a53c1f0-a14a-445f-8b22-6be3e506c6cb"
      },
      "execution_count": null,
      "outputs": [
        {
          "output_type": "execute_result",
          "data": {
            "text/plain": [
              "900"
            ]
          },
          "metadata": {},
          "execution_count": 28
        }
      ]
    },
    {
      "cell_type": "markdown",
      "source": [
        "###Variaveis"
      ],
      "metadata": {
        "id": "-VhGSbxKQeND"
      }
    },
    {
      "cell_type": "markdown",
      "source": [
        "Variaveis de Texto"
      ],
      "metadata": {
        "id": "CagEKHTjQ76K"
      }
    },
    {
      "cell_type": "code",
      "source": [
        "texto = \"Curso de Python Iniciantes\""
      ],
      "metadata": {
        "id": "h6hCWKL3Q-Q5"
      },
      "execution_count": null,
      "outputs": []
    },
    {
      "cell_type": "code",
      "source": [
        "texto"
      ],
      "metadata": {
        "colab": {
          "base_uri": "https://localhost:8080/",
          "height": 36
        },
        "id": "zAOH7j5xRZNg",
        "outputId": "6971168b-ec14-4282-ba01-8ff60f862b9b"
      },
      "execution_count": null,
      "outputs": [
        {
          "output_type": "execute_result",
          "data": {
            "text/plain": [
              "'Curso de Python Iniciantes'"
            ],
            "application/vnd.google.colaboratory.intrinsic+json": {
              "type": "string"
            }
          },
          "metadata": {},
          "execution_count": 30
        }
      ]
    },
    {
      "cell_type": "code",
      "source": [
        "texto = texto + \" - Aula 02\"\n",
        "texto"
      ],
      "metadata": {
        "id": "Y8X4hM1GRhSh"
      },
      "execution_count": null,
      "outputs": []
    },
    {
      "cell_type": "code",
      "source": [],
      "metadata": {
        "id": "stPHYyqGRpLS"
      },
      "execution_count": null,
      "outputs": []
    },
    {
      "cell_type": "markdown",
      "source": [
        ">Variaveis Numéricas"
      ],
      "metadata": {
        "id": "VuQ8c2ipR3PK"
      }
    },
    {
      "cell_type": "code",
      "source": [
        "soma = 0\n",
        "soma"
      ],
      "metadata": {
        "colab": {
          "base_uri": "https://localhost:8080/"
        },
        "id": "hHbvBTdJR7OS",
        "outputId": "5d34f36c-42b8-4cb2-cd52-2f4966e47f6d"
      },
      "execution_count": null,
      "outputs": [
        {
          "output_type": "execute_result",
          "data": {
            "text/plain": [
              "0"
            ]
          },
          "metadata": {},
          "execution_count": 32
        }
      ]
    },
    {
      "cell_type": "markdown",
      "source": [
        ">Incrementando / Decrementando"
      ],
      "metadata": {
        "id": "33Ufd76XSBAx"
      }
    },
    {
      "cell_type": "code",
      "source": [
        "soma = soma + 1\n",
        "soma"
      ],
      "metadata": {
        "colab": {
          "base_uri": "https://localhost:8080/"
        },
        "id": "e5ONYnCsSFgR",
        "outputId": "23790e13-9369-4eb0-8350-47d901e1eac0"
      },
      "execution_count": null,
      "outputs": [
        {
          "output_type": "execute_result",
          "data": {
            "text/plain": [
              "1"
            ]
          },
          "metadata": {},
          "execution_count": 33
        }
      ]
    },
    {
      "cell_type": "code",
      "source": [
        "soma += 1\n",
        "soma"
      ],
      "metadata": {
        "colab": {
          "base_uri": "https://localhost:8080/"
        },
        "id": "AYTZvx1wSQo6",
        "outputId": "7716309f-b8f1-408f-f4b5-7b6e59cce09b"
      },
      "execution_count": null,
      "outputs": [
        {
          "output_type": "execute_result",
          "data": {
            "text/plain": [
              "3"
            ]
          },
          "metadata": {},
          "execution_count": 35
        }
      ]
    },
    {
      "cell_type": "code",
      "source": [
        "soma -= 1\n",
        "soma"
      ],
      "metadata": {
        "colab": {
          "base_uri": "https://localhost:8080/"
        },
        "id": "NZYGNfAnSYAS",
        "outputId": "8f4ff612-f08c-4f91-82e2-04756f81d2ff"
      },
      "execution_count": null,
      "outputs": [
        {
          "output_type": "execute_result",
          "data": {
            "text/plain": [
              "2"
            ]
          },
          "metadata": {},
          "execution_count": 36
        }
      ]
    },
    {
      "cell_type": "code",
      "source": [
        "soma = soma -1\n",
        "soma"
      ],
      "metadata": {
        "colab": {
          "base_uri": "https://localhost:8080/"
        },
        "id": "5MSMjDJESdwx",
        "outputId": "afa2802e-b720-443b-c97b-e71d3ab52481"
      },
      "execution_count": null,
      "outputs": [
        {
          "output_type": "execute_result",
          "data": {
            "text/plain": [
              "0"
            ]
          },
          "metadata": {},
          "execution_count": 38
        }
      ]
    },
    {
      "cell_type": "markdown",
      "source": [
        "Listas"
      ],
      "metadata": {
        "id": "q0UPtMlXTl_o"
      }
    },
    {
      "cell_type": "markdown",
      "source": [
        "> Criando e Selecionando Elementos"
      ],
      "metadata": {
        "id": "asnIPhtQTrTB"
      }
    },
    {
      "cell_type": "code",
      "source": [
        "frutas = ['maça', 'banana', 'laranja']\n",
        "frutas"
      ],
      "metadata": {
        "colab": {
          "base_uri": "https://localhost:8080/"
        },
        "id": "4Dj_OKRvTxO7",
        "outputId": "c723a682-8695-4216-cd84-4de3cd28ae61"
      },
      "execution_count": null,
      "outputs": [
        {
          "output_type": "execute_result",
          "data": {
            "text/plain": [
              "['maça', 'banana', 'laranja']"
            ]
          },
          "metadata": {},
          "execution_count": 39
        }
      ]
    },
    {
      "cell_type": "code",
      "source": [
        "frutas [0]"
      ],
      "metadata": {
        "colab": {
          "base_uri": "https://localhost:8080/",
          "height": 36
        },
        "id": "7f_1tgdIUE2z",
        "outputId": "3acc099c-ad11-4925-bfba-d46fb7db43de"
      },
      "execution_count": null,
      "outputs": [
        {
          "output_type": "execute_result",
          "data": {
            "text/plain": [
              "'maça'"
            ],
            "application/vnd.google.colaboratory.intrinsic+json": {
              "type": "string"
            }
          },
          "metadata": {},
          "execution_count": 43
        }
      ]
    },
    {
      "cell_type": "code",
      "source": [
        "numeros = [1,2,3,4,5]\n",
        "numeros"
      ],
      "metadata": {
        "colab": {
          "base_uri": "https://localhost:8080/"
        },
        "id": "HD4R6ldIUYpI",
        "outputId": "8430316d-e9c8-41f1-a842-803de5b650f8"
      },
      "execution_count": null,
      "outputs": [
        {
          "output_type": "execute_result",
          "data": {
            "text/plain": [
              "[1, 2, 3, 4, 5]"
            ]
          },
          "metadata": {},
          "execution_count": 45
        }
      ]
    },
    {
      "cell_type": "code",
      "source": [
        "lista = ['a', 'b', 'c', frutas, numeros]\n",
        "lista"
      ],
      "metadata": {
        "colab": {
          "base_uri": "https://localhost:8080/"
        },
        "id": "9IoTko2QUlka",
        "outputId": "f586fdd7-9660-4f8b-fef2-4d9bdaa3510f"
      },
      "execution_count": null,
      "outputs": [
        {
          "output_type": "execute_result",
          "data": {
            "text/plain": [
              "['a', 'b', 'c', ['maça', 'banana', 'laranja'], [1, 2, 3, 4, 5]]"
            ]
          },
          "metadata": {},
          "execution_count": 47
        }
      ]
    },
    {
      "cell_type": "code",
      "source": [
        "lista[4]"
      ],
      "metadata": {
        "colab": {
          "base_uri": "https://localhost:8080/"
        },
        "id": "g5IZQ1psU-mK",
        "outputId": "27c30236-8cea-4f0f-af77-ff43d0b252ba"
      },
      "execution_count": null,
      "outputs": [
        {
          "output_type": "execute_result",
          "data": {
            "text/plain": [
              "[1, 2, 3, 4, 5]"
            ]
          },
          "metadata": {},
          "execution_count": 52
        }
      ]
    },
    {
      "cell_type": "code",
      "source": [
        "lista[3][1]"
      ],
      "metadata": {
        "colab": {
          "base_uri": "https://localhost:8080/",
          "height": 36
        },
        "id": "d7wpoEWuVd3b",
        "outputId": "c03f2406-3504-4b41-b50b-3f0c62b9a7a1"
      },
      "execution_count": null,
      "outputs": [
        {
          "output_type": "execute_result",
          "data": {
            "text/plain": [
              "'banana'"
            ],
            "application/vnd.google.colaboratory.intrinsic+json": {
              "type": "string"
            }
          },
          "metadata": {},
          "execution_count": 53
        }
      ]
    },
    {
      "cell_type": "code",
      "source": [
        "lista[:2]"
      ],
      "metadata": {
        "colab": {
          "base_uri": "https://localhost:8080/"
        },
        "id": "ey0CgXyiVxqJ",
        "outputId": "6d1cf7b3-4c99-4f60-c1ec-d392a6218052"
      },
      "execution_count": null,
      "outputs": [
        {
          "output_type": "execute_result",
          "data": {
            "text/plain": [
              "['a', 'b']"
            ]
          },
          "metadata": {},
          "execution_count": 54
        }
      ]
    },
    {
      "cell_type": "code",
      "source": [
        "lista[2:]"
      ],
      "metadata": {
        "colab": {
          "base_uri": "https://localhost:8080/"
        },
        "id": "5ONqJ1aVV4mY",
        "outputId": "b345f0ee-dfb9-449e-d26f-acaa253740e3"
      },
      "execution_count": null,
      "outputs": [
        {
          "output_type": "execute_result",
          "data": {
            "text/plain": [
              "['c', ['maça', 'banana', 'laranja'], [1, 2, 3, 4, 5]]"
            ]
          },
          "metadata": {},
          "execution_count": 55
        }
      ]
    },
    {
      "cell_type": "markdown",
      "source": [
        "Adicionando e removendo elementos"
      ],
      "metadata": {
        "id": "SNrkxooFWG9b"
      }
    },
    {
      "cell_type": "code",
      "source": [
        "frutas.append('goiaba')\n",
        "frutas"
      ],
      "metadata": {
        "colab": {
          "base_uri": "https://localhost:8080/"
        },
        "id": "DRQLZkVsWK6w",
        "outputId": "d0d3c040-9882-44e3-9c1f-526ebfe41256"
      },
      "execution_count": null,
      "outputs": [
        {
          "output_type": "execute_result",
          "data": {
            "text/plain": [
              "['maça', 'banana', 'laranja', 'goiaba', 'goiaba']"
            ]
          },
          "metadata": {},
          "execution_count": 57
        }
      ]
    },
    {
      "cell_type": "code",
      "source": [
        "frutas.pop()\n",
        "frutas"
      ],
      "metadata": {
        "colab": {
          "base_uri": "https://localhost:8080/"
        },
        "id": "EdinZZF2WXCO",
        "outputId": "14299711-6100-4e87-d58e-b88506c98d87"
      },
      "execution_count": null,
      "outputs": [
        {
          "output_type": "execute_result",
          "data": {
            "text/plain": [
              "['banana', 'laranja']"
            ]
          },
          "metadata": {},
          "execution_count": 60
        }
      ]
    },
    {
      "cell_type": "code",
      "source": [
        "frutas[0] = 'pera'\n",
        "frutas"
      ],
      "metadata": {
        "colab": {
          "base_uri": "https://localhost:8080/"
        },
        "id": "XWAy_KgXXDzh",
        "outputId": "ff0fd53a-ed47-4635-8753-5302df9e14d5"
      },
      "execution_count": null,
      "outputs": [
        {
          "output_type": "execute_result",
          "data": {
            "text/plain": [
              "['pera', 'laranja']"
            ]
          },
          "metadata": {},
          "execution_count": 63
        }
      ]
    },
    {
      "cell_type": "code",
      "source": [
        "marcas = 'gm', 'ford', 'fiat', 'vw'\n",
        "marcas"
      ],
      "metadata": {
        "colab": {
          "base_uri": "https://localhost:8080/"
        },
        "id": "rV4XpdigXWdw",
        "outputId": "2f2ef9a0-e203-4b7d-c3cb-f5fb7d2a7846"
      },
      "execution_count": null,
      "outputs": [
        {
          "output_type": "execute_result",
          "data": {
            "text/plain": [
              "('gm', 'ford', 'fiat', 'vw')"
            ]
          },
          "metadata": {},
          "execution_count": 64
        }
      ]
    },
    {
      "cell_type": "code",
      "source": [
        "marcas[2]"
      ],
      "metadata": {
        "colab": {
          "base_uri": "https://localhost:8080/",
          "height": 36
        },
        "id": "8ofbbbjKXoNP",
        "outputId": "e7be5aa6-fe32-480b-d0d8-31239d1b5ea9"
      },
      "execution_count": null,
      "outputs": [
        {
          "output_type": "execute_result",
          "data": {
            "text/plain": [
              "'fiat'"
            ],
            "application/vnd.google.colaboratory.intrinsic+json": {
              "type": "string"
            }
          },
          "metadata": {},
          "execution_count": 65
        }
      ]
    },
    {
      "cell_type": "markdown",
      "source": [],
      "metadata": {
        "id": "u3-enR5pXrC4"
      }
    },
    {
      "cell_type": "markdown",
      "source": [
        "Tuplas"
      ],
      "metadata": {
        "id": "EOWspRvhXVQn"
      }
    },
    {
      "cell_type": "markdown",
      "source": [
        ">A diferença principal entre Listas e Tuplas é que os elementos de tuplas não podem ser alterados"
      ],
      "metadata": {
        "id": "w4J2b_cDXsYS"
      }
    },
    {
      "cell_type": "code",
      "source": [
        "marcas[0] = 'ferrari'"
      ],
      "metadata": {
        "colab": {
          "base_uri": "https://localhost:8080/",
          "height": 141
        },
        "id": "R4DUN2KuX5sX",
        "outputId": "bfc21600-82f4-4b10-f4ac-9950c4bd6a18"
      },
      "execution_count": null,
      "outputs": [
        {
          "output_type": "error",
          "ename": "TypeError",
          "evalue": "'tuple' object does not support item assignment",
          "traceback": [
            "\u001b[0;31m---------------------------------------------------------------------------\u001b[0m",
            "\u001b[0;31mTypeError\u001b[0m                                 Traceback (most recent call last)",
            "\u001b[0;32m<ipython-input-66-6e451b28c77b>\u001b[0m in \u001b[0;36m<cell line: 1>\u001b[0;34m()\u001b[0m\n\u001b[0;32m----> 1\u001b[0;31m \u001b[0mmarcas\u001b[0m\u001b[0;34m[\u001b[0m\u001b[0;36m0\u001b[0m\u001b[0;34m]\u001b[0m \u001b[0;34m=\u001b[0m \u001b[0;34m'ferrari'\u001b[0m\u001b[0;34m\u001b[0m\u001b[0;34m\u001b[0m\u001b[0m\n\u001b[0m",
            "\u001b[0;31mTypeError\u001b[0m: 'tuple' object does not support item assignment"
          ]
        }
      ]
    },
    {
      "cell_type": "markdown",
      "source": [
        "Aula 26/03 Variáveis, Listas e Tuplas - https://www.youtube.com/watch?v=LRUNe_yS-dU"
      ],
      "metadata": {
        "id": "986SqIGqYHnG"
      }
    },
    {
      "cell_type": "code",
      "source": [
        "from google.colab import drive\n",
        "drive.mount('/content/drive')"
      ],
      "metadata": {
        "id": "ySHTo7oLLriE"
      },
      "execution_count": null,
      "outputs": []
    }
  ]
}